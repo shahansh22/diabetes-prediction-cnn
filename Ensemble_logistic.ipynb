{
  "nbformat": 4,
  "nbformat_minor": 0,
  "metadata": {
    "colab": {
      "provenance": [],
      "include_colab_link": true
    },
    "kernelspec": {
      "name": "python3",
      "display_name": "Python 3"
    },
    "language_info": {
      "name": "python"
    }
  },
  "cells": [
    {
      "cell_type": "markdown",
      "metadata": {
        "id": "view-in-github",
        "colab_type": "text"
      },
      "source": [
        "<a href=\"https://colab.research.google.com/github/shahansh22/diabetes-prediction-cnn/blob/main/Ensemble_logistic.ipynb\" target=\"_parent\"><img src=\"https://colab.research.google.com/assets/colab-badge.svg\" alt=\"Open In Colab\"/></a>"
      ]
    },
    {
      "cell_type": "code",
      "source": [
        "from google.colab import drive\n",
        "drive.mount('/content/drive')"
      ],
      "metadata": {
        "colab": {
          "base_uri": "https://localhost:8080/"
        },
        "id": "YHTE154x37Er",
        "outputId": "056139b3-4705-4530-d400-8d2bee291aa2"
      },
      "execution_count": null,
      "outputs": [
        {
          "output_type": "stream",
          "name": "stdout",
          "text": [
            "Mounted at /content/drive\n"
          ]
        }
      ]
    },
    {
      "cell_type": "code",
      "source": [
        "import os\n",
        "import numpy as np\n",
        "import pandas as pd\n",
        "from tensorflow.keras.models import load_model\n",
        "from tensorflow.keras.preprocessing import image\n",
        "from sklearn.metrics import accuracy_score, confusion_matrix\n",
        "from tensorflow.keras.preprocessing.image import ImageDataGenerator\n",
        "\n",
        "# Load saved models\n",
        "mobilenet_model = load_model('/content/drive/MyDrive/images/MobileNet.h5')\n",
        "inception_model = load_model('/content/drive/MyDrive/images/InceptionV3.h5')\n",
        "densenet_model = load_model('/content/drive/MyDrive/images/DenseNet121.h5')\n",
        "\n",
        "# Define path to test images\n",
        "test_folder = '/content/drive/MyDrive/images/test_images/'\n",
        "test_csv= '/content/drive/MyDrive/images/test_images/test_labels.csv'\n",
        "test=pd.read_csv(test_csv)\n",
        "test[\"image\"] = test[\"image\"].apply(lambda x: x + \".jpeg\")\n",
        "\n",
        "test_datagen = ImageDataGenerator(rescale=1./255)\n",
        "\n",
        "test_generator = test_datagen.flow_from_dataframe(\n",
        "        dataframe=test,\n",
        "        directory = test_folder,\n",
        "        x_col=\"image\",\n",
        "        target_size=(244, 244),\n",
        "        batch_size=1,\n",
        "        shuffle=False,\n",
        "        class_mode=None,\n",
        "        )"
      ],
      "metadata": {
        "colab": {
          "base_uri": "https://localhost:8080/"
        },
        "id": "rTss40soCvTd",
        "outputId": "3374f238-0f0f-4fca-a199-de2acf3c2c1c"
      },
      "execution_count": null,
      "outputs": [
        {
          "output_type": "stream",
          "name": "stdout",
          "text": [
            "Found 1581 validated image filenames.\n"
          ]
        }
      ]
    },
    {
      "cell_type": "code",
      "source": [
        "# Generate predictions for each model\n",
        "model1_preds = mobilenet_model.predict(test_generator)\n",
        "model2_preds = inception_model.predict(test_generator)"
      ],
      "metadata": {
        "colab": {
          "base_uri": "https://localhost:8080/"
        },
        "id": "9ve_RHMJgIyW",
        "outputId": "bb5db26c-e67f-47ba-caa6-6de7bee7f00d"
      },
      "execution_count": null,
      "outputs": [
        {
          "output_type": "stream",
          "name": "stdout",
          "text": [
            "1581/1581 [==============================] - 567s 358ms/step\n",
            "1581/1581 [==============================] - 380s 239ms/step\n"
          ]
        }
      ]
    },
    {
      "cell_type": "code",
      "source": [
        "model3_preds = densenet_model.predict(test_generator)"
      ],
      "metadata": {
        "colab": {
          "base_uri": "https://localhost:8080/"
        },
        "id": "Id-_ZZy4x6H7",
        "outputId": "459f4d20-b472-411a-a09f-6e749b4b789c"
      },
      "execution_count": null,
      "outputs": [
        {
          "output_type": "stream",
          "name": "stdout",
          "text": [
            "1581/1581 [==============================] - 436s 274ms/step\n"
          ]
        }
      ]
    },
    {
      "cell_type": "code",
      "source": [
        "from sklearn.linear_model import LogisticRegression\n",
        "all_model_pred=[]\n",
        "all_model_preds = np.concatenate((model1_preds, model2_preds, model3_preds), axis=1)\n",
        "# Fit logistic regression on combined predictions\n",
        "logreg = LogisticRegression(max_iter=1000)\n",
        "logreg.fit(all_model_preds, test['level'])  # Assuming 'label' is the column containing the target labels\n",
        "\n",
        "# Predict using the logistic regression model\n",
        "ensemble_preds = logreg.predict(all_model_preds)"
      ],
      "metadata": {
        "id": "cVQnjcyOk23G"
      },
      "execution_count": null,
      "outputs": []
    },
    {
      "cell_type": "code",
      "source": [
        "# Print shapes for debugging\n",
        "#print(\"Shape of true_classes:\", true_classes.shape)\n",
        "print(\"Shape of all_predictions:\", np.array(all_model_preds).shape)"
      ],
      "metadata": {
        "colab": {
          "base_uri": "https://localhost:8080/"
        },
        "id": "s_xogkwanvhq",
        "outputId": "57a2bdc5-73d4-4ba4-e25a-a64263fc592d"
      },
      "execution_count": null,
      "outputs": [
        {
          "output_type": "stream",
          "name": "stdout",
          "text": [
            "Shape of true_classes: (1581,)\n",
            "Shape of all_predictions: (1581, 1)\n"
          ]
        }
      ]
    },
    {
      "cell_type": "code",
      "source": [
        "import matplotlib.pyplot as plt\n",
        "import seaborn as sns\n",
        "test_csv = pd.read_csv('/content/drive/MyDrive/images/test_images/test_labels.csv')\n",
        "\n",
        "# Extract the true class labels\n",
        "true_classes = test_csv['level'].values\n",
        "# Plot confusion matrix\n",
        "cm = confusion_matrix(true_classes, ensemble_preds)\n",
        "plt.figure(figsize=(8, 6))\n",
        "sns.heatmap(cm, annot=True, fmt='g', cmap='Blues', xticklabels=['0', '1', '2'], yticklabels=['0', '1', '2'])\n",
        "plt.xlabel('Predicted')\n",
        "plt.ylabel('True')\n",
        "plt.title('Confusion Matrix')\n",
        "plt.show()\n"
      ],
      "metadata": {
        "colab": {
          "base_uri": "https://localhost:8080/",
          "height": 564
        },
        "id": "1IyDx0-nKthk",
        "outputId": "9cce3291-269a-4fea-f422-421ecd5597af"
      },
      "execution_count": null,
      "outputs": [
        {
          "output_type": "display_data",
          "data": {
            "text/plain": [
              "<Figure size 800x600 with 2 Axes>"
            ],
            "image/png": "[encoded data removed]"
          },
          "metadata": {}
        }
      ]
    },
    {
      "cell_type": "code",
      "source": [
        "accuracy = accuracy_score(true_classes, ensemble_preds)\n",
        "print(\"Ensemble Accuracy:\", accuracy)"
      ],
      "metadata": {
        "colab": {
          "base_uri": "https://localhost:8080/"
        },
        "id": "qu9SvkEiLKfU",
        "outputId": "5c390c6d-df89-4f77-98bb-c5a4df042e6f"
      },
      "execution_count": null,
      "outputs": [
        {
          "output_type": "stream",
          "name": "stdout",
          "text": [
            "Ensemble Accuracy: 0.6261859582542695\n"
          ]
        }
      ]
    },
    {
      "cell_type": "code",
      "source": [],
      "metadata": {
        "id": "X9PejLuehXJG"
      },
      "execution_count": null,
      "outputs": []
    }
  ]
}